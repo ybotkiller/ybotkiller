{
 "cells": [
  {
   "cell_type": "code",
   "execution_count": 190,
   "metadata": {
    "collapsed": true
   },
   "outputs": [],
   "source": [
    "from collections import Counter\n",
    "\n",
    "import pandas as pd\n",
    "\n",
    "from sklearn.externals import joblib\n",
    "from sklearn.linear_model import LogisticRegression, SGDClassifier\n",
    "from sklearn.feature_extraction.text import CountVectorizer, TfidfVectorizer\n",
    "from sklearn.pipeline import Pipeline, FeatureUnion\n",
    "from sklearn.model_selection import cross_val_score\n",
    "from sklearn.decomposition import PCA, TruncatedSVD\n",
    "from sklearn.svm import SVC\n",
    "from sklearn.ensemble import GradientBoostingClassifier\n",
    "from sklearn.metrics import roc_curve\n",
    "\n",
    "import matplotlib.pyplot as plt\n",
    "\n",
    "%matplotlib inline"
   ]
  },
  {
   "cell_type": "code",
   "execution_count": 161,
   "metadata": {},
   "outputs": [
    {
     "name": "stderr",
     "output_type": "stream",
     "text": [
      "Skipping line 20650: expected 6 fields, saw 7\n",
      "\n"
     ]
    }
   ],
   "source": [
    "df = pd.read_csv('comments.csv', encoding='utf-8', sep=';', error_bad_lines=False)"
   ]
  },
  {
   "cell_type": "code",
   "execution_count": 162,
   "metadata": {},
   "outputs": [],
   "source": [
    "df.columns = ['time', 'profile', 'username', 'plus', 'minus', 'text']"
   ]
  },
  {
   "cell_type": "code",
   "execution_count": 163,
   "metadata": {},
   "outputs": [],
   "source": [
    "df.fillna('', inplace=True)"
   ]
  },
  {
   "cell_type": "code",
   "execution_count": 164,
   "metadata": {},
   "outputs": [],
   "source": [
    "df = df[df['minus'] <= 0]"
   ]
  },
  {
   "cell_type": "code",
   "execution_count": 165,
   "metadata": {},
   "outputs": [
    {
     "data": {
      "text/plain": [
       "<matplotlib.axes._subplots.AxesSubplot at 0x11c569d10>"
      ]
     },
     "execution_count": 165,
     "metadata": {},
     "output_type": "execute_result"
    },
    {
     "data": {
      "image/png": "[encoded data removed]",
      "text/plain": [
       "<matplotlib.figure.Figure at 0x11c569610>"
      ]
     },
     "metadata": {},
     "output_type": "display_data"
    }
   ],
   "source": [
    "df.minus.hist(bins=100)"
   ]
  },
  {
   "cell_type": "code",
   "execution_count": 166,
   "metadata": {},
   "outputs": [
    {
     "data": {
      "text/plain": [
       "<matplotlib.axes._subplots.AxesSubplot at 0x11cdf5890>"
      ]
     },
     "execution_count": 166,
     "metadata": {},
     "output_type": "execute_result"
    },
    {
     "data": {
      "image/png": "[encoded data removed]",
      "text/plain": [
       "<matplotlib.figure.Figure at 0x11ce12610>"
      ]
     },
     "metadata": {},
     "output_type": "display_data"
    }
   ],
   "source": [
    "df.plus.hist(bins=100)"
   ]
  },
  {
   "cell_type": "code",
   "execution_count": 167,
   "metadata": {},
   "outputs": [
    {
     "data": {
      "text/html": [
       "<div>\n",
       "<style>\n",
       "    .dataframe thead tr:only-child th {\n",
       "        text-align: right;\n",
       "    }\n",
       "\n",
       "    .dataframe thead th {\n",
       "        text-align: left;\n",
       "    }\n",
       "\n",
       "    .dataframe tbody tr th {\n",
       "        vertical-align: top;\n",
       "    }\n",
       "</style>\n",
       "<table border=\"1\" class=\"dataframe\">\n",
       "  <thead>\n",
       "    <tr style=\"text-align: right;\">\n",
       "      <th></th>\n",
       "      <th>time</th>\n",
       "      <th>profile</th>\n",
       "      <th>username</th>\n",
       "      <th>plus</th>\n",
       "      <th>minus</th>\n",
       "      <th>text</th>\n",
       "    </tr>\n",
       "  </thead>\n",
       "  <tbody>\n",
       "    <tr>\n",
       "      <th>0</th>\n",
       "      <td>1499599723000</td>\n",
       "      <td>https://profile.hypercomments.com/7817694</td>\n",
       "      <td>Игорь</td>\n",
       "      <td>0</td>\n",
       "      <td>-16</td>\n",
       "      <td></td>\n",
       "    </tr>\n",
       "    <tr>\n",
       "      <th>1</th>\n",
       "      <td>1499608692000</td>\n",
       "      <td>https://profile.hypercomments.com/2391496</td>\n",
       "      <td>Ал Екс</td>\n",
       "      <td>3</td>\n",
       "      <td>-21</td>\n",
       "      <td></td>\n",
       "    </tr>\n",
       "    <tr>\n",
       "      <th>2</th>\n",
       "      <td>1499610553000</td>\n",
       "      <td>https://profile.hypercomments.com/7844634</td>\n",
       "      <td>Fedaris Gumerov</td>\n",
       "      <td>11</td>\n",
       "      <td>-4</td>\n",
       "      <td>Ты на самом деле ЁБНУТЫЙ..?</td>\n",
       "    </tr>\n",
       "    <tr>\n",
       "      <th>3</th>\n",
       "      <td>1499610588000</td>\n",
       "      <td>https://profile.hypercomments.com/7844634</td>\n",
       "      <td>Fedaris Gumerov</td>\n",
       "      <td>3</td>\n",
       "      <td>-2</td>\n",
       "      <td>Ты на самом деле ПРИЁБНУТЫЙ...?</td>\n",
       "    </tr>\n",
       "    <tr>\n",
       "      <th>4</th>\n",
       "      <td>1499620277000</td>\n",
       "      <td>https://profile.hypercomments.com/2391496</td>\n",
       "      <td>Ал Екс</td>\n",
       "      <td>1</td>\n",
       "      <td>-20</td>\n",
       "      <td></td>\n",
       "    </tr>\n",
       "  </tbody>\n",
       "</table>\n",
       "</div>"
      ],
      "text/plain": [
       "            time                                    profile         username  \\\n",
       "0  1499599723000  https://profile.hypercomments.com/7817694            Игорь   \n",
       "1  1499608692000  https://profile.hypercomments.com/2391496           Ал Екс   \n",
       "2  1499610553000  https://profile.hypercomments.com/7844634  Fedaris Gumerov   \n",
       "3  1499610588000  https://profile.hypercomments.com/7844634  Fedaris Gumerov   \n",
       "4  1499620277000  https://profile.hypercomments.com/2391496           Ал Екс   \n",
       "\n",
       "   plus  minus                             text  \n",
       "0     0    -16                                   \n",
       "1     3    -21                                   \n",
       "2    11     -4      Ты на самом деле ЁБНУТЫЙ..?  \n",
       "3     3     -2  Ты на самом деле ПРИЁБНУТЫЙ...?  \n",
       "4     1    -20                                   "
      ]
     },
     "execution_count": 167,
     "metadata": {},
     "output_type": "execute_result"
    }
   ],
   "source": [
    "df.head()"
   ]
  },
  {
   "cell_type": "code",
   "execution_count": 168,
   "metadata": {},
   "outputs": [
    {
     "data": {
      "text/plain": [
       "69221"
      ]
     },
     "execution_count": 168,
     "metadata": {},
     "output_type": "execute_result"
    }
   ],
   "source": [
    "df.plus.sum()"
   ]
  },
  {
   "cell_type": "code",
   "execution_count": 169,
   "metadata": {},
   "outputs": [
    {
     "data": {
      "text/plain": [
       "-67530"
      ]
     },
     "execution_count": 169,
     "metadata": {},
     "output_type": "execute_result"
    }
   ],
   "source": [
    "df.minus.sum()"
   ]
  },
  {
   "cell_type": "code",
   "execution_count": 170,
   "metadata": {},
   "outputs": [
    {
     "data": {
      "text/plain": [
       "count    46061.000000\n",
       "mean         1.502811\n",
       "std          3.880927\n",
       "min          0.000000\n",
       "25%          0.000000\n",
       "50%          1.000000\n",
       "75%          2.000000\n",
       "max        192.000000\n",
       "Name: plus, dtype: float64"
      ]
     },
     "execution_count": 170,
     "metadata": {},
     "output_type": "execute_result"
    }
   ],
   "source": [
    "df.plus.describe()"
   ]
  },
  {
   "cell_type": "code",
   "execution_count": 171,
   "metadata": {},
   "outputs": [
    {
     "data": {
      "text/plain": [
       "count    46061.000000\n",
       "mean        -1.466099\n",
       "std          2.625720\n",
       "min        -97.000000\n",
       "25%         -2.000000\n",
       "50%         -1.000000\n",
       "75%          0.000000\n",
       "max          0.000000\n",
       "Name: minus, dtype: float64"
      ]
     },
     "execution_count": 171,
     "metadata": {},
     "output_type": "execute_result"
    }
   ],
   "source": [
    "df.minus.describe()"
   ]
  },
  {
   "cell_type": "code",
   "execution_count": 172,
   "metadata": {},
   "outputs": [],
   "source": [
    "# df = df[(df['minus'] < -2) | (df['plus'] > 2)]"
   ]
  },
  {
   "cell_type": "code",
   "execution_count": 173,
   "metadata": {},
   "outputs": [],
   "source": [
    "def summary(row):\n",
    "    return int(row['minus']) + int(row['plus'])\n",
    "\n",
    "df['total'] = df.apply(summary, axis=1)"
   ]
  },
  {
   "cell_type": "code",
   "execution_count": 174,
   "metadata": {},
   "outputs": [],
   "source": [
    "df = df[(df['total'] > 0) | (df['total'] < 0)]"
   ]
  },
  {
   "cell_type": "code",
   "execution_count": 175,
   "metadata": {},
   "outputs": [],
   "source": [
    "df = df[df.text != '']"
   ]
  },
  {
   "cell_type": "code",
   "execution_count": 176,
   "metadata": {},
   "outputs": [],
   "source": [
    "df['is_bot'] = df.total.apply(lambda x: 1 if x < 0 else 0)"
   ]
  },
  {
   "cell_type": "code",
   "execution_count": 177,
   "metadata": {},
   "outputs": [],
   "source": [
    "counter = Counter()\n",
    "\n",
    "for i, row in df.iterrows():\n",
    "    profile = row['profile']\n",
    "    text = row['text']\n",
    "    counter.update([(profile, text)])"
   ]
  },
  {
   "cell_type": "code",
   "execution_count": 178,
   "metadata": {},
   "outputs": [],
   "source": [
    "bot_profiles = set()\n",
    "for tuple_profile_text, count in counter.most_common():\n",
    "    if count == 1:\n",
    "        break\n",
    "    profile, text = tuple_profile_text\n",
    "    bot_profiles.add(profile)"
   ]
  },
  {
   "cell_type": "code",
   "execution_count": 179,
   "metadata": {},
   "outputs": [
    {
     "data": {
      "text/plain": [
       "50"
      ]
     },
     "execution_count": 179,
     "metadata": {},
     "output_type": "execute_result"
    }
   ],
   "source": [
    "len(bot_profiles)"
   ]
  },
  {
   "cell_type": "code",
   "execution_count": 180,
   "metadata": {},
   "outputs": [
    {
     "data": {
      "text/plain": [
       "(25389, 8)"
      ]
     },
     "execution_count": 180,
     "metadata": {},
     "output_type": "execute_result"
    }
   ],
   "source": [
    "df.shape"
   ]
  },
  {
   "cell_type": "code",
   "execution_count": 181,
   "metadata": {},
   "outputs": [
    {
     "name": "stderr",
     "output_type": "stream",
     "text": [
      "/Users/toly/projects/hypercomments_parser/env/lib/python2.7/site-packages/ipykernel_launcher.py:1: DeprecationWarning: \n",
      ".ix is deprecated. Please use\n",
      ".loc for label based indexing or\n",
      ".iloc for positional indexing\n",
      "\n",
      "See the documentation here:\n",
      "http://pandas.pydata.org/pandas-docs/stable/indexing.html#ix-indexer-is-deprecated\n",
      "  \"\"\"Entry point for launching an IPython kernel.\n"
     ]
    }
   ],
   "source": [
    "df.ix[df.profile.isin(bot_profiles), 'is_bot'] = 1"
   ]
  },
  {
   "cell_type": "code",
   "execution_count": 182,
   "metadata": {},
   "outputs": [],
   "source": [
    "df.drop_duplicates(subset=['text'], inplace=True)"
   ]
  },
  {
   "cell_type": "code",
   "execution_count": 183,
   "metadata": {},
   "outputs": [
    {
     "data": {
      "text/plain": [
       "1    18687\n",
       "0     6063\n",
       "Name: is_bot, dtype: int64"
      ]
     },
     "execution_count": 183,
     "metadata": {},
     "output_type": "execute_result"
    }
   ],
   "source": [
    "df.is_bot.value_counts()"
   ]
  },
  {
   "cell_type": "code",
   "execution_count": 148,
   "metadata": {
    "collapsed": true
   },
   "outputs": [],
   "source": [
    "model = Pipeline([\n",
    "    ('vectors', FeatureUnion([\n",
    "        ('chars', TfidfVectorizer(ngram_range=(1, 5), analyzer='char', min_df=10)),\n",
    "        ('words', TfidfVectorizer(ngram_range=(1, 2), min_df=10)),\n",
    "    ])),\n",
    "    ('logistic', LogisticRegression(class_weight='balanced'))\n",
    "])"
   ]
  },
  {
   "cell_type": "code",
   "execution_count": 149,
   "metadata": {},
   "outputs": [
    {
     "name": "stdout",
     "output_type": "stream",
     "text": [
      "0.680064633407\n",
      "0.719046657241\n",
      "0.690909090909\n",
      "0.747019599919\n",
      "0.7171145686\n"
     ]
    }
   ],
   "source": [
    "for score in cross_val_score(model, df.text, df.is_bot, cv=5):\n",
    "    print score"
   ]
  },
  {
   "cell_type": "code",
   "execution_count": 150,
   "metadata": {},
   "outputs": [
    {
     "name": "stdout",
     "output_type": "stream",
     "text": [
      "0.778275475924\n",
      "0.804497540408\n",
      "0.776315789474\n",
      "0.830627705628\n",
      "0.803315538072\n"
     ]
    }
   ],
   "source": [
    "for score in cross_val_score(model, df.text, df.is_bot, cv=5, scoring='f1'):\n",
    "    print score"
   ]
  },
  {
   "cell_type": "code",
   "execution_count": 152,
   "metadata": {},
   "outputs": [
    {
     "name": "stderr",
     "output_type": "stream",
     "text": [
      "/Users/toly/projects/hypercomments_parser/env/lib/python2.7/site-packages/sklearn/linear_model/stochastic_gradient.py:84: FutureWarning: max_iter and tol parameters have been added in <class 'sklearn.linear_model.stochastic_gradient.SGDClassifier'> in 0.19. If both are left unset, they default to max_iter=5 and tol=None. If tol is not None, max_iter defaults to max_iter=1000. From 0.21, default max_iter will be 1000, and default tol will be 1e-3.\n",
      "  \"and default tol will be 1e-3.\" % type(self), FutureWarning)\n"
     ]
    }
   ],
   "source": [
    "model = Pipeline([\n",
    "    ('vectors', FeatureUnion([\n",
    "        ('chars', TfidfVectorizer(ngram_range=(1, 5), analyzer='char', min_df=10)),\n",
    "        ('words', TfidfVectorizer(ngram_range=(1, 2), min_df=10)),\n",
    "    ])),\n",
    "    ('logistic', SGDClassifier(class_weight='balanced'))\n",
    "])"
   ]
  },
  {
   "cell_type": "code",
   "execution_count": 153,
   "metadata": {},
   "outputs": [
    {
     "name": "stdout",
     "output_type": "stream",
     "text": [
      "0.741719887123\n",
      "0.806880156621\n",
      "0.761127596439\n",
      "0.820540985857\n",
      "0.806732117812\n"
     ]
    }
   ],
   "source": [
    "for score in cross_val_score(model, df.text, df.is_bot, cv=5, scoring='f1'):\n",
    "    print score"
   ]
  },
  {
   "cell_type": "markdown",
   "metadata": {},
   "source": [
    "# best solution candidate"
   ]
  },
  {
   "cell_type": "code",
   "execution_count": 184,
   "metadata": {},
   "outputs": [],
   "source": [
    "model = Pipeline([\n",
    "    ('vectors', FeatureUnion([\n",
    "        ('chars', TfidfVectorizer(ngram_range=(1, 5), analyzer='char', min_df=10)),\n",
    "        ('words', TfidfVectorizer(ngram_range=(1, 2), min_df=10)),\n",
    "    ])),\n",
    "    ('logistic', GradientBoostingClassifier())\n",
    "])"
   ]
  },
  {
   "cell_type": "code",
   "execution_count": 156,
   "metadata": {},
   "outputs": [
    {
     "name": "stdout",
     "output_type": "stream",
     "text": [
      "0.861144077854\n",
      "0.869916765755\n",
      "0.858947879966\n",
      "0.871488344292\n",
      "0.869606674613\n"
     ]
    }
   ],
   "source": [
    "for score in cross_val_score(model, df.text, df.is_bot, cv=5, scoring='f1'):\n",
    "    print score"
   ]
  },
  {
   "cell_type": "code",
   "execution_count": 185,
   "metadata": {},
   "outputs": [
    {
     "name": "stdout",
     "output_type": "stream",
     "text": [
      "0.763482124823\n",
      "0.778630579681\n",
      "0.766060606061\n",
      "0.78116791271\n",
      "0.77955142453\n"
     ]
    }
   ],
   "source": [
    "for score in cross_val_score(model, df.text, df.is_bot, cv=5):\n",
    "    print score"
   ]
  },
  {
   "cell_type": "code",
   "execution_count": 186,
   "metadata": {},
   "outputs": [
    {
     "data": {
      "text/plain": [
       "Pipeline(memory=None,\n",
       "     steps=[('vectors', FeatureUnion(n_jobs=1,\n",
       "       transformer_list=[('chars', TfidfVectorizer(analyzer='char', binary=False, decode_error=u'strict',\n",
       "        dtype=<type 'numpy.int64'>, encoding=u'utf-8', input=u'content',\n",
       "        lowercase=True, max_df=1.0, max_features=None, min_df=10,\n",
       "        ngram...      presort='auto', random_state=None, subsample=1.0, verbose=0,\n",
       "              warm_start=False))])"
      ]
     },
     "execution_count": 186,
     "metadata": {},
     "output_type": "execute_result"
    }
   ],
   "source": [
    "model.fit(df.text, df.is_bot)"
   ]
  },
  {
   "cell_type": "code",
   "execution_count": 187,
   "metadata": {},
   "outputs": [
    {
     "data": {
      "text/plain": [
       "array([[ 0.14603486,  0.85396514],\n",
       "       [ 0.18119103,  0.81880897],\n",
       "       [ 0.10399919,  0.89600081],\n",
       "       [ 0.26962145,  0.73037855],\n",
       "       [ 0.39918175,  0.60081825]])"
      ]
     },
     "execution_count": 187,
     "metadata": {},
     "output_type": "execute_result"
    }
   ],
   "source": [
    "model.predict_proba([\n",
    "    'Убить Дурицкого.',\n",
    "    'врешь как либеральная сволочь',\n",
    "    'Чья бы корова мычала, в твоей хохляндии пенсии по 40 долларов и зарплаты по 100 долларов. А стоимость коммуналки как европах.',\n",
    "    'Россия встала скален Рoссиян уже который год кормят мукой из фуражного зерна, предназначенного исключительно для скота',\n",
    "    'Навальный красавчик! Во прикол будет, кремлепуты залезут счёта посмотреть, а там хер начивал, охренеют по полной)))))',\n",
    "])"
   ]
  },
  {
   "cell_type": "code",
   "execution_count": 189,
   "metadata": {},
   "outputs": [
    {
     "data": {
      "text/plain": [
       "['model_hypercomments.pkl']"
      ]
     },
     "execution_count": 189,
     "metadata": {},
     "output_type": "execute_result"
    }
   ],
   "source": [
    "joblib.dump(model, 'model_hypercomments.pkl')"
   ]
  },
  {
   "cell_type": "code",
   "execution_count": 193,
   "metadata": {},
   "outputs": [],
   "source": [
    "fpr, tpr, thresholds = roc_curve(df.is_bot, model.predict_proba(df.text)[:, 1])"
   ]
  },
  {
   "cell_type": "code",
   "execution_count": 197,
   "metadata": {},
   "outputs": [
    {
     "data": {
      "image/png": "[encoded data removed]",
      "text/plain": [
       "<matplotlib.figure.Figure at 0x119762490>"
      ]
     },
     "metadata": {},
     "output_type": "display_data"
    }
   ],
   "source": [
    "plt.plot(fpr, tpr)\n",
    "plt.xlabel('False Positive Rate')\n",
    "plt.ylabel('True Positive Rate')\n",
    "plt.show()"
   ]
  },
  {
   "cell_type": "code",
   "execution_count": 198,
   "metadata": {
    "collapsed": true
   },
   "outputs": [],
   "source": [
    "model = Pipeline([\n",
    "    ('vectors', FeatureUnion([\n",
    "        ('chars', TfidfVectorizer(ngram_range=(1, 5), analyzer='char', min_df=10)),\n",
    "        ('words', TfidfVectorizer(ngram_range=(1, 2), min_df=10)),\n",
    "    ])),\n",
    "    ('logistic', LogisticRegression(class_weight='balanced'))\n",
    "])"
   ]
  },
  {
   "cell_type": "code",
   "execution_count": 199,
   "metadata": {},
   "outputs": [
    {
     "data": {
      "text/plain": [
       "Pipeline(memory=None,\n",
       "     steps=[('vectors', FeatureUnion(n_jobs=1,\n",
       "       transformer_list=[('chars', TfidfVectorizer(analyzer='char', binary=False, decode_error=u'strict',\n",
       "        dtype=<type 'numpy.int64'>, encoding=u'utf-8', input=u'content',\n",
       "        lowercase=True, max_df=1.0, max_features=None, min_df=10,\n",
       "        ngram...ty='l2', random_state=None,\n",
       "          solver='liblinear', tol=0.0001, verbose=0, warm_start=False))])"
      ]
     },
     "execution_count": 199,
     "metadata": {},
     "output_type": "execute_result"
    }
   ],
   "source": [
    "model.fit(df.text, df.is_bot)"
   ]
  },
  {
   "cell_type": "code",
   "execution_count": 200,
   "metadata": {},
   "outputs": [
    {
     "data": {
      "text/plain": [
       "['model_hypercomments2.pkl']"
      ]
     },
     "execution_count": 200,
     "metadata": {},
     "output_type": "execute_result"
    }
   ],
   "source": [
    "joblib.dump(model, 'model_hypercomments2.pkl')"
   ]
  },
  {
   "cell_type": "code",
   "execution_count": 201,
   "metadata": {
    "collapsed": true
   },
   "outputs": [],
   "source": [
    "fpr, tpr, thresholds = roc_curve(df.is_bot, model.predict_proba(df.text)[:, 1])"
   ]
  },
  {
   "cell_type": "code",
   "execution_count": 202,
   "metadata": {},
   "outputs": [
    {
     "data": {
      "image/png": "[encoded data removed]",
      "text/plain": [
       "<matplotlib.figure.Figure at 0x12515db50>"
      ]
     },
     "metadata": {},
     "output_type": "display_data"
    }
   ],
   "source": [
    "plt.plot(fpr, tpr)\n",
    "plt.xlabel('False Positive Rate')\n",
    "plt.ylabel('True Positive Rate')\n",
    "plt.show()"
   ]
  },
  {
   "cell_type": "code",
   "execution_count": 206,
   "metadata": {},
   "outputs": [],
   "source": [
    "u = model.steps[0][1]"
   ]
  },
  {
   "cell_type": "code",
   "execution_count": 209,
   "metadata": {},
   "outputs": [],
   "source": [
    "vectorizer = u.transformer_list[1][1]"
   ]
  },
  {
   "cell_type": "code",
   "execution_count": 211,
   "metadata": {},
   "outputs": [
    {
     "data": {
      "text/plain": [
       "5007"
      ]
     },
     "execution_count": 211,
     "metadata": {},
     "output_type": "execute_result"
    }
   ],
   "source": [
    "len(vectorizer.vocabulary_)"
   ]
  },
  {
   "cell_type": "code",
   "execution_count": 212,
   "metadata": {},
   "outputs": [
    {
     "data": {
      "text/plain": [
       "array([[ 0.24221649,  0.75778351],\n",
       "       [ 0.14105794,  0.85894206],\n",
       "       [ 0.14035898,  0.85964102],\n",
       "       [ 0.35912014,  0.64087986],\n",
       "       [ 0.4587957 ,  0.5412043 ]])"
      ]
     },
     "execution_count": 212,
     "metadata": {},
     "output_type": "execute_result"
    }
   ],
   "source": [
    "model.predict_proba([\n",
    "    'Убить Дурицкого.',\n",
    "    'врешь как либеральная сволочь',\n",
    "    'Чья бы корова мычала, в твоей хохляндии пенсии по 40 долларов и зарплаты по 100 долларов. А стоимость коммуналки как европах.',\n",
    "    'Россия встала скален Рoссиян уже который год кормят мукой из фуражного зерна, предназначенного исключительно для скота',\n",
    "    'Навальный красавчик! Во прикол будет, кремлепуты залезут счёта посмотреть, а там хер начивал, охренеют по полной)))))',\n",
    "])"
   ]
  }
 ],
 "metadata": {
  "kernelspec": {
   "display_name": "Python 2",
   "language": "python",
   "name": "python2"
  },
  "language_info": {
   "codemirror_mode": {
    "name": "ipython",
    "version": 2
   },
   "file_extension": ".py",
   "mimetype": "text/x-python",
   "name": "python",
   "nbconvert_exporter": "python",
   "pygments_lexer": "ipython2",
   "version": "2.7.13"
  }
 },
 "nbformat": 4,
 "nbformat_minor": 2
}
